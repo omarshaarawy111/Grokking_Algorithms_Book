{
 "cells": [
  {
   "cell_type": "code",
   "execution_count": 5,
   "metadata": {},
   "outputs": [
    {
     "name": "stdout",
     "output_type": "stream",
     "text": [
      "List before sorting : [1, 3, 2, 90, 45]\n",
      "List after sorting : [1, 2, 3, 45, 90]\n",
      "\n",
      "For the element 1 is at position 0.\n"
     ]
    }
   ],
   "source": [
    "# Binary serach algorithm class\n",
    "class BinarySearchAlgorithm:\n",
    "    \n",
    "    # Intialization\n",
    "    def __init__(self, pre_list):\n",
    "        self.orginal_list = pre_list\n",
    "        self.sorted_list = sorted(pre_list)\n",
    "\n",
    "    # Display lists\n",
    "    def display_lists(self):\n",
    "        print(f'List before sorting : {self.orginal_list}')\n",
    "        print(f'List after sorting : {self.sorted_list}\\n')\n",
    "\n",
    "    # Binary Search\n",
    "    def binary_search(self, item):\n",
    "        low  = 0\n",
    "        high = len(self.sorted_list) - 1 \n",
    "        while low <= high :\n",
    "            mid = (high + low) // 2 \n",
    "            guess = self.sorted_list[mid]\n",
    "            if guess == item :\n",
    "                return mid\n",
    "            elif guess > item :\n",
    "                high = mid - 1\n",
    "            elif guess < item :\n",
    "                low = mid + 1 \n",
    "        return None\n",
    "      \n",
    "    # Display Results\n",
    "    def binary_search_result(self, item):\n",
    "        result = self.binary_search(item)\n",
    "        if result != None :\n",
    "            print(f'For the element {item} is at position {result}.')\n",
    "        else :\n",
    "            print(f'For the element {item} not found in list.')  \n",
    "\n",
    "if __name__ == \"__main__\" :\n",
    "    pre_list = list(map(int ,input('Enter Elements : ').split()))\n",
    "    item = int(input('Enter Item : '))\n",
    "    binary_search = BinarySearchAlgorithm(pre_list)\n",
    "    binary_search.display_lists()\n",
    "    binary_search.binary_search_result(item)"
   ]
  }
 ],
 "metadata": {
  "kernelspec": {
   "display_name": "base",
   "language": "python",
   "name": "python3"
  },
  "language_info": {
   "codemirror_mode": {
    "name": "ipython",
    "version": 3
   },
   "file_extension": ".py",
   "mimetype": "text/x-python",
   "name": "python",
   "nbconvert_exporter": "python",
   "pygments_lexer": "ipython3",
   "version": "3.12.4"
  }
 },
 "nbformat": 4,
 "nbformat_minor": 2
}
