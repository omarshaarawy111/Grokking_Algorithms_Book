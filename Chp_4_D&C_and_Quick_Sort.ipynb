{
 "cells": [
  {
   "cell_type": "code",
   "execution_count": null,
   "metadata": {},
   "outputs": [
    {
     "name": "stdout",
     "output_type": "stream",
     "text": [
      "List before sorting : [1, 3, 2, 10, 90, 45]\n",
      "List after sorting : [1, 2, 3, 10, 45, 90]\n",
      "\n",
      "For the element 1 is at position 0.\n"
     ]
    }
   ],
   "source": [
    "# Quick sort algorithm class\n",
    "class QuickSortAlgorithm:\n",
    "\n",
    "    # Initialization\n",
    "    def __init__(self, pre_list):\n",
    "        self.original_list = pre_list.copy()\n",
    "        self.arr = pre_list.copy()\n",
    "        \n",
    "    # Sorting\n",
    "    def quick_sort(self, arr=None):\n",
    "        if arr is None :  \n",
    "            arr = self.arr    \n",
    "        if len(arr) < 2 :\n",
    "            return arr\n",
    "        elif len(arr) == 2 :\n",
    "            if arr[0] > arr[1] :\n",
    "                arr[0], arr[1] = arr[1], arr[0]\n",
    "            return arr\n",
    "        else :\n",
    "            pivot = arr[0]\n",
    "            less = [i for i in arr[1:] if i <= pivot]\n",
    "            greater = [i for i in arr[1:] if i > pivot]\n",
    "            return self.quick_sort(less) + [pivot] + self.quick_sort(greater)\n",
    "\n",
    "    # Display lists\n",
    "    def display_lists(self):\n",
    "        self.sorted_list = self.quick_sort()  # Sort before displaying\n",
    "        print(f'List before sorting : {self.original_list}')\n",
    "        print(f'List after sorting : {self.sorted_list}\\n')\n",
    "\n",
    "# Binary serach algorithm class\n",
    "class BinarySearchAlgorithm:\n",
    "    \n",
    "    # Intialization\n",
    "    def __init__(self, sorted_list):\n",
    "        self.sorted_list = sorted_list\n",
    "\n",
    "    # Binary Search\n",
    "    def binary_search(self, item):\n",
    "        low  = 0\n",
    "        high = len(self.sorted_list) - 1 \n",
    "        while low <= high :\n",
    "            mid = (high + low) // 2 \n",
    "            guess = self.sorted_list[mid]\n",
    "            if guess == item :\n",
    "                return mid\n",
    "            elif guess > item :\n",
    "                high = mid - 1\n",
    "            elif guess < item :\n",
    "                low = mid + 1 \n",
    "        return None\n",
    "      \n",
    "    # Display Results\n",
    "    def binary_search_result(self, item):\n",
    "        result = self.binary_search(item)\n",
    "        if result != None :\n",
    "            print(f'For the element {item} is at position {result}.')\n",
    "        else :\n",
    "            print(f'For the element {item} not found in list.')  \n",
    "\n",
    "if __name__ == \"__main__\" :\n",
    "    pre_list = list(map(int ,input('Enter Elements : ').split()))\n",
    "    item = int(input('Enter Item : '))\n",
    "    quick_sort = QuickSortAlgorithm(pre_list)\n",
    "    sorted_list = quick_sort.quick_sort()\n",
    "    quick_sort.display_lists()\n",
    "    binary_search = BinarySearchAlgorithm(sorted_list)\n",
    "    binary_search.binary_search_result(item)            "
   ]
  },
  {
   "cell_type": "code",
   "execution_count": null,
   "metadata": {},
   "outputs": [
    {
     "name": "stdout",
     "output_type": "stream",
     "text": [
      "Lenght of the list is 4 elements.\n",
      "Max element of the list is 4 elements.\n"
     ]
    }
   ],
   "source": [
    "# Counting list and getting max of the list class\n",
    "class Counting:\n",
    "\n",
    "    # Initialization\n",
    "    def __init__(self, arr):\n",
    "        self.arr = arr.copy()\n",
    "        self.get_max_arr = arr.copy()\n",
    "\n",
    "    # Counting\n",
    "    def count(self):\n",
    "        if not self.arr :\n",
    "            return 0\n",
    "        else :\n",
    "            self.arr.pop(0)\n",
    "            return 1 + self.count()\n",
    "        \n",
    "    # Max element\n",
    "    def max(self):\n",
    "        if not self.get_max_arr :\n",
    "            return 0\n",
    "        else :\n",
    "            self.first = self.get_max_arr.pop(0)\n",
    "            return max(self.first, self.max())    \n",
    "            \n",
    "if __name__ == \"__main__\":\n",
    "    pre_list = list(map(int ,input('Enter Elements : ').split()))  \n",
    "    counting = Counting(pre_list)\n",
    "    print(f'Lenght of the list is {counting.count()} elements.')\n",
    "    print(f'Max element of the list is {counting.max()} elements.')"
   ]
  }
 ],
 "metadata": {
  "kernelspec": {
   "display_name": "base",
   "language": "python",
   "name": "python3"
  },
  "language_info": {
   "codemirror_mode": {
    "name": "ipython",
    "version": 3
   },
   "file_extension": ".py",
   "mimetype": "text/x-python",
   "name": "python",
   "nbconvert_exporter": "python",
   "pygments_lexer": "ipython3",
   "version": "3.12.4"
  }
 },
 "nbformat": 4,
 "nbformat_minor": 2
}
